{
  "nbformat": 4,
  "nbformat_minor": 0,
  "metadata": {
    "colab": {
      "provenance": []
    },
    "kernelspec": {
      "name": "python3",
      "display_name": "Python 3"
    },
    "language_info": {
      "name": "python"
    }
  },
  "cells": [
    {
      "cell_type": "code",
      "execution_count": 3,
      "metadata": {
        "id": "yrRaHr0kHAXJ"
      },
      "outputs": [],
      "source": [
        "import tensorflow as tf\n",
        "import numpy as np\n",
        "from tensorflow import keras\n",
        "import os\n",
        "\n",
        "# export the converted tflite float model to a header file\n",
        "!xxd -i daefloat > daefloat.h\n",
        "\n",
        "# export the converted tflite quentized model (int8) to a header file\n",
        "!xxd -i daeint8 > daeint8.h\n"
      ]
    },
    {
      "cell_type": "code",
      "source": [],
      "metadata": {
        "id": "yCCcQ3W7JDVm"
      },
      "execution_count": null,
      "outputs": []
    }
  ]
}
